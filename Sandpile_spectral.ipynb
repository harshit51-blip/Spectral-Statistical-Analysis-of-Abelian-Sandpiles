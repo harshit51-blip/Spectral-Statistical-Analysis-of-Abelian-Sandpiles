{
 "cells": [
  {
   "cell_type": "code",
   "execution_count": 3,
   "id": "b985774b",
   "metadata": {},
   "outputs": [],
   "source": [
    "import numpy as np\n",
    "import matplotlib.pyplot as plt\n",
    "import statistics as st\n",
    "import scipy as sci\n",
    "import random as r\n",
    "from itertools import chain"
   ]
  },
  {
   "cell_type": "code",
   "execution_count": 4,
   "id": "4ce83842",
   "metadata": {},
   "outputs": [],
   "source": [
    "#list_1 = np.array(np.arange(1,11,1))\n",
    "#list_2 = np.array(np.arange(1,101,1).reshape(10,10))\n",
    "'''b = r.choice(list_2)\n",
    "b_2 = r.choice(b)'''\n",
    "def func(N):\n",
    "    list_5 = []\n",
    "    list_6 = []\n",
    "    w_list = []\n",
    "    list_7 = []\n",
    "    list_8 = []\n",
    "    \n",
    "    \n",
    "    for t in range(1000):\n",
    "        mat = np.random.random((N,N))\n",
    "        math = mat + mat.conj().T\n",
    "        \n",
    "        \n",
    "        for x in math:\n",
    "            a = r.choice(math)\n",
    "            j_prime = np.where(math == a)\n",
    "            a_2 = r.choice(a)\n",
    "            j = np.where(math[j_prime] == a_2)\n",
    "            a_2 += 1\n",
    "            math[j_prime][j] = a_2\n",
    "            list_7.append(a_2)\n",
    "\n",
    "            list_3 = [x-1, x+1]\n",
    "            for o in a:\n",
    "                u = r.uniform(a_2**8+5, a_2**3+2)\n",
    "                if o > u:\n",
    "                    b = r.choice(list_3)\n",
    "                    n = np.where(math[j_prime] == o)\n",
    "                    o -= abs(u-o)\n",
    "                    b += abs(u-o)\n",
    "                    math[j_prime][n] = b\n",
    "                    \n",
    "\n",
    "\n",
    "                    '''if 0 == list_1[0]:\n",
    "                        list_3 = [x+1]\n",
    "                        b = r.choice(list_3)\n",
    "                        n = np.where(list_1 == x)\n",
    "                        x -= 1\n",
    "                        b += 1\n",
    "                        list_1[n] = b'''\n",
    "\n",
    "\n",
    "\n",
    "                    if o == math[j_prime][N-1]:\n",
    "                        list_3 = [x-1]\n",
    "                        b = r.choice(list_3)\n",
    "                        n = np.where(math[j_prime] == o)\n",
    "                        o -= abs(u-o)\n",
    "                        b += abs(u-o)\n",
    "                        math[j_prime][n] = b\n",
    "                               \n",
    "                list_6.append(u)   \n",
    "                list_8.append(o)\n",
    "            list_5.append(x)\n",
    "        \n",
    "        \n",
    "        w = np.linalg.eigvals(math)\n",
    "        h = list(w)\n",
    "        w_list.append(h)\n",
    "        w_list.sort()\n",
    "        \n",
    "        \n",
    "    return w_list, list_5, list_6, list_7, list_8"
   ]
  },
  {
   "cell_type": "code",
   "execution_count": 5,
   "id": "9b0431fa",
   "metadata": {},
   "outputs": [
    {
     "name": "stdout",
     "output_type": "stream",
     "text": [
      "done\n",
      "done\n",
      "done\n",
      "done\n",
      "done\n",
      "done\n",
      "done\n",
      "done\n",
      "done\n",
      "done\n",
      "done\n",
      "done\n",
      "done\n",
      "done\n",
      "done\n",
      "done\n",
      "done\n",
      "done\n",
      "done\n",
      "done\n"
     ]
    }
   ],
   "source": [
    "N_list = [50, 60, 80, 100, 120, 150, 200, 240, 270, 300]\n",
    "N_2 = [200, 250, 300, 350, 400, 450, 500]\n",
    "N_3 = list(np.arange(5, 200, 10))\n",
    "deviation = []\n",
    "m_list = []\n",
    "r_dev = []\n",
    "r_mean = []\n",
    "c_dev = []\n",
    "c_mean = []\n",
    "\n",
    "for i in N_3:\n",
    "    \n",
    "    eig_vals, raw_list, crit_points, mean, neigh = func(i)\n",
    "    raw_list_2 =  list(chain.from_iterable(raw_list))\n",
    "    eig_vals_2 = list(chain.from_iterable(eig_vals))\n",
    "    norm_eig = [a/np.sqrt(i) for a in eig_vals_2]\n",
    "    evd2 = [abs(y - x) for x,y in zip(norm_eig, norm_eig[1:])]\n",
    "    mean_evd2 = np.mean(evd2)\n",
    "    rld2 = [y - x for x,y in zip(raw_list_2, raw_list_2[1:])]\n",
    "    \n",
    "    \n",
    "    dev = st.stdev(evd2)\n",
    "    m = st.mean(evd2)\n",
    "    dev_r = st.stdev(rld2)\n",
    "    m_r = st.mean(rld2)\n",
    "    m_c = st.mean(crit_points)\n",
    "    dev_c = st.stdev(crit_points)\n",
    "    deviation.append(dev)\n",
    "    m_list.append(m)\n",
    "    r_dev.append(dev_r)\n",
    "    r_mean.append(m_r)\n",
    "    c_dev.append(dev_c)\n",
    "    c_mean.append(m_c)\n",
    "    \n",
    "    print('done')"
   ]
  },
  {
   "cell_type": "code",
   "execution_count": 6,
   "id": "b03315d3",
   "metadata": {},
   "outputs": [
    {
     "name": "stdout",
     "output_type": "stream",
     "text": [
      "[1.005680201442956, 1.3035622636864241, 1.354835158203029, 1.3804714998527032, 1.3985272828899056, 1.4156911054689383, 1.4199856529885606, 1.4272095657195838, 1.4331178936001598, 1.4400014652621596, 1.438378604371169, 1.4414949108488913, 1.4440844651425986, 1.435919214831955, 1.4392347507952445, 1.433256847475807, 1.431500339319852, 1.433653394517352, 1.433063171585773, 1.4340928042073273]\n",
      "[1.1880499734398506, 0.8064882190157696, 0.687173211902636, 0.6202916617084703, 0.582196015647447, 0.5518919267383899, 0.5255076789380858, 0.5086005272107281, 0.4906728133422598, 0.4800430078945403, 0.46732983018781044, 0.455466977201389, 0.4460105604656045, 0.49109744058993493, 0.4870840977361668, 0.3569596927893927, 0.32937624595228654, 0.3328046784322573, 0.31668405042484504, 0.3073644239063877]\n",
      "[0.62921054844486, 0.5953840387957797, 0.5889648574288966, 0.5857037090488766, 0.5841504422439777, 0.5822259804027833, 0.582044240131383, 0.5809207888410984, 0.5808279196322919, 0.5804266471878374, 0.5803248872073012, 0.5796605089370187, 0.579771551497299, 0.5794854946858428, 0.5794053773542023, 0.579207017040065, 0.5790468939262002, 0.5792277150796293, 0.5787940281039404, 0.5788667953120595]\n",
      "[3.4501864595058232e-06, 5.050429944430455e-06, 1.0175698351291522e-06, -6.31436219003253e-07, -3.483034436411602e-08, 2.500479378951564e-07, -5.825184284524843e-08, -8.807994648713081e-08, 2.1543738174087746e-07, 9.538983984300056e-08, -7.607265593984112e-08, 3.835863122081616e-08, -1.2700202401276063e-08, 6.772590248624008e-08, -5.2487162538447453e-08, 2.13568347138742e-08, -1.3828012657545922e-08, 2.1417119984668774e-08, -2.39316995405962e-08, 1.734668253935538e-08]\n",
      "[685.9354139386593, 605.0468297905494, 597.4683446981285, 576.9476872332021, 574.0520593935962, 580.4588555671767, 571.5328265072253, 576.1951545169949, 571.0870837306605, 579.2524557805972, 572.3277939021934, 573.6082892686704, 572.5618026242897, 572.2050411770821, 572.7191197067519, 572.335555867593, 572.2054562717141, 569.4524627534904, 571.2854203865733, 567.8328543942799]\n",
      "[367.59447269387664, 337.4313672688311, 338.36864550451793, 325.7082494659363, 327.3368908562371, 328.2892749973285, 327.41383040034975, 328.0692243476068, 326.05085278167644, 331.18885489595584, 326.07744170467663, 327.73685946168433, 327.2432348047547, 326.04701920798925, 328.0063340004211, 326.05775318294167, 326.45397654714066, 325.45033891723267, 325.57096978775337, 324.92138030608646]\n"
     ]
    }
   ],
   "source": [
    "print(deviation)\n",
    "print(m_list)\n",
    "print(r_dev)\n",
    "print(r_mean)\n",
    "print(c_dev)\n",
    "print(c_mean)"
   ]
  },
  {
   "cell_type": "code",
   "execution_count": null,
   "id": "4f75630c",
   "metadata": {},
   "outputs": [],
   "source": [
    "raw_list_2 =  list(chain.from_iterable(raw_list))\n",
    "eig_vals_2 = list(chain.from_iterable(eig_vals))\n",
    "\n",
    "norm_eig = [a/np.sqrt(1000) for a in eig_vals_2]\n",
    "\n",
    "rld2 = [y - x for x,y in zip(raw_list_2, raw_list_2[1:])]\n",
    "evd2 = [abs(y - x) for x,y in zip(norm_eig, norm_eig[1:])]\n",
    "mean_evd2 = evd2/np.mean(evd2)"
   ]
  },
  {
   "cell_type": "code",
   "execution_count": null,
   "id": "f290804c",
   "metadata": {},
   "outputs": [],
   "source": [
    "plt.scatter(np.log(rld2[:299999]), np.log(crit_points[:299999]))\n",
    "plt.xlabel('log of lattice points in time (with previous states subtracted)')\n",
    "plt.ylabel('log of critical points')\n",
    "plt.title('evidence for spontaneous synchronicity')"
   ]
  },
  {
   "cell_type": "code",
   "execution_count": null,
   "id": "72d9573e",
   "metadata": {},
   "outputs": [],
   "source": [
    "plt.hist(rld2, bins=65)\n",
    "plt.xlabel('lattice points with previous states removed, evolved in time')"
   ]
  },
  {
   "cell_type": "code",
   "execution_count": null,
   "id": "3e51a17a",
   "metadata": {},
   "outputs": [],
   "source": [
    "plt.hist(evd2, bins=275)\n",
    "plt.plot(density=True)\n",
    "plt.xlim(0, 0.6)\n",
    "plt.xlabel('absolute difference-eigen values')\n",
    "plt.title('wigner distribution for a chaotic system; with the new cor. the eig vals came closer together')\n",
    "\n",
    "print(st.stdev(evd2))\n",
    "print(st.mean(evd2))\n",
    "print(abs(min(evd2)-max(evd2)))\n",
    "'''A = np.random.random((300, 300))\n",
    "B = 2**-0.5 * (Mh)\n",
    "D = np.linalg.eigvals(B)  \n",
    "E = np.real(D)\n",
    "\n",
    "plt.plot(list(np.arange(-0.001, 0.0008, 0.02)), E)'''"
   ]
  },
  {
   "cell_type": "code",
   "execution_count": null,
   "id": "27ad50b5",
   "metadata": {},
   "outputs": [],
   "source": [
    "plt.hist(norm_eig, bins=500)\n",
    "plt.xlim(-0.03, 0.03)\n",
    "plt.xlabel('eigen values')\n",
    "plt.title('semi-circular law')"
   ]
  },
  {
   "cell_type": "code",
   "execution_count": null,
   "id": "f39dff97",
   "metadata": {},
   "outputs": [],
   "source": [
    "plt.hist(raw_list_2, bins=75)\n",
    "plt.xlabel('lattice points without previous state removed, evolved in time')"
   ]
  },
  {
   "cell_type": "code",
   "execution_count": null,
   "id": "e68c3e04",
   "metadata": {},
   "outputs": [],
   "source": [
    "plt.plot(range(250), raw_list_2[:250])\n",
    "plt.xlabel('iteration')\n",
    "plt.ylabel('lattice points, without previous states removed')"
   ]
  },
  {
   "cell_type": "code",
   "execution_count": null,
   "id": "271ea45a",
   "metadata": {},
   "outputs": [],
   "source": [
    "plt.plot(range(250), crit_points[:250])\n",
    "#print(len(crit_points))"
   ]
  },
  {
   "cell_type": "code",
   "execution_count": null,
   "id": "97e2a89f",
   "metadata": {},
   "outputs": [],
   "source": [
    "plt.scatter(range(500), mean[:500])"
   ]
  },
  {
   "cell_type": "code",
   "execution_count": null,
   "id": "cef5cea8",
   "metadata": {},
   "outputs": [],
   "source": [
    "plt.hist(coeff, bins=20)"
   ]
  },
  {
   "cell_type": "code",
   "execution_count": null,
   "id": "6f52cf17",
   "metadata": {},
   "outputs": [],
   "source": [
    "plt.plot(range(200), rld2[:200])"
   ]
  },
  {
   "cell_type": "code",
   "execution_count": null,
   "id": "b2d23ae0",
   "metadata": {},
   "outputs": [],
   "source": [
    "print(len(neigh))\n",
    "print(len(raw_list_2))\n",
    "\n",
    "plt.scatter(neigh[:2500], rld2[:2500])\n",
    "plt.show()\n",
    "plt.scatter(rld2[:2500], neigh[:2500])\n",
    "plt.show()"
   ]
  },
  {
   "cell_type": "code",
   "execution_count": null,
   "id": "43dc2764",
   "metadata": {},
   "outputs": [],
   "source": [
    "plt.scatter(crit_points[:250],neigh[:250])"
   ]
  },
  {
   "cell_type": "code",
   "execution_count": null,
   "id": "b8e6b97c",
   "metadata": {},
   "outputs": [],
   "source": [
    "plt.scatter(neigh[:2500], crit_points[:2500])"
   ]
  },
  {
   "cell_type": "code",
   "execution_count": null,
   "id": "69c85987",
   "metadata": {},
   "outputs": [],
   "source": [
    "plt.hist(neigh)"
   ]
  },
  {
   "cell_type": "code",
   "execution_count": null,
   "id": "1e9a68f3",
   "metadata": {},
   "outputs": [],
   "source": [
    "plt.scatter(neigh[:2500], evd2[:2500])"
   ]
  },
  {
   "cell_type": "code",
   "execution_count": null,
   "id": "58356352",
   "metadata": {},
   "outputs": [],
   "source": [
    "plt.scatter(N_3, deviation)\n",
    "plt.xlabel('Lattice Size')\n",
    "plt.ylabel('deviation in eigen values')\n",
    "plt.show()\n",
    "\n",
    "\n",
    "plt.scatter(np.log(N_3), np.log(deviation))\n",
    "'''m, c = np.polyfit(np.log(N_3_1), np.log(deviation_1), 1)\n",
    "ytrend = [m*a+c for a in np.log(N_3_1)]'''\n",
    "plt.xlabel('log of Lattice Size')\n",
    "plt.ylabel('log of deviation in eigen values')\n",
    "'''plt.plot(np.log(N_3_1), ytrend)\n",
    "\n",
    "print(m, c)'''\n",
    "plt.show()\n",
    "\n",
    "plt.scatter(N_3, m_list)\n",
    "plt.xlabel('Lattice Size')\n",
    "plt.ylabel('Mean of eigen values')\n",
    "plt.show()\n",
    "\n",
    "plt.scatter(N_3, [1/d for d in m_list])\n",
    "m_1, c_1 = np.polyfit(N_3, [1/v for v in m_list], 1)\n",
    "ytrend_1 = [m_1*f+c_1 for f in N_3]\n",
    "plt.plot(N_3, ytrend_1)\n",
    "plt.xlabel('Lattice Size')\n",
    "plt.ylabel('$1/(Mean of eigen values)$')\n",
    "print(m_1, c_1)\n",
    "plt.show()\n",
    "\n",
    "plt.scatter(N_3, r_dev)\n",
    "plt.xlabel('Lattice Size')\n",
    "plt.ylabel('deviation in evolution of lattice coordinates')\n",
    "'''m, c = np.polyfit(N_3, r_dev, 1)\n",
    "ytrend = [m*a+c for a in N_3]\n",
    "plt.plot(N_3, ytrend)\n",
    "plt.show()\n",
    "print(m, c)'''\n",
    "plt.show()\n",
    "\n",
    "\n",
    "plt.scatter(N_3, r_mean)\n",
    "plt.xlabel('Lattice Size')\n",
    "plt.ylabel('Mean of evolution of lattice coordinates')\n",
    "plt.show()\n",
    "\n",
    "plt.scatter(N_3, c_mean)\n",
    "plt.xlabel('Lattice Size')\n",
    "plt.ylabel('Mean of critical points')\n",
    "plt.show()\n",
    "\n",
    "plt.scatter(N_3, c_dev)\n",
    "plt.xlabel('Lattice Size')\n",
    "plt.ylabel('Deviation in critical points')\n",
    "plt.show()"
   ]
  },
  {
   "cell_type": "code",
   "execution_count": null,
   "id": "6008405e",
   "metadata": {},
   "outputs": [],
   "source": []
  }
 ],
 "metadata": {
  "kernelspec": {
   "display_name": "Python 3 (ipykernel)",
   "language": "python",
   "name": "python3"
  },
  "language_info": {
   "codemirror_mode": {
    "name": "ipython",
    "version": 3
   },
   "file_extension": ".py",
   "mimetype": "text/x-python",
   "name": "python",
   "nbconvert_exporter": "python",
   "pygments_lexer": "ipython3",
   "version": "3.10.9"
  }
 },
 "nbformat": 4,
 "nbformat_minor": 5
}
