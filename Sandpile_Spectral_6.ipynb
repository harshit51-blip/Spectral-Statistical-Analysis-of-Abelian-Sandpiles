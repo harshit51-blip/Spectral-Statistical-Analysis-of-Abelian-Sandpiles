{
 "cells": [
  {
   "cell_type": "code",
   "execution_count": 1,
   "id": "0b4c4b99",
   "metadata": {},
   "outputs": [],
   "source": [
    "import numpy as np\n",
    "import matplotlib.pyplot as plt\n",
    "import statistics as st\n",
    "import random as r\n",
    "import seaborn as sns\n",
    "from itertools import chain"
   ]
  },
  {
   "cell_type": "code",
   "execution_count": 5,
   "id": "d01816ff",
   "metadata": {},
   "outputs": [],
   "source": [
    "#list_1 = np.array(np.arange(1,11,1))\n",
    "#list_2 = np.array(np.arange(1,101,1).reshape(10,10))\n",
    "'''b = r.choice(list_2)\n",
    "b_2 = r.choice(b)'''\n",
    "def func(m):\n",
    "    list_5 = []\n",
    "    list_6 = []\n",
    "    w_list = []\n",
    "    list_7 = []\n",
    "    list_8 = []\n",
    "    k_list = list(np.arange(1,10,1))\n",
    "        \n",
    "        \n",
    "        \n",
    "        \n",
    "    for x in m:\n",
    "        a = r.choice(m)\n",
    "        j_prime = np.where(m == a)\n",
    "        a_2 = r.choice(a)\n",
    "        j = np.where(m[j_prime] == a_2)\n",
    "        a_2 += 1\n",
    "        m[j_prime][j] = a_2\n",
    "        list_7.append(a_2)\n",
    "\n",
    "        list_3 = [x-1, x+1]\n",
    "        for o in a:\n",
    "            for k in k_list:\n",
    "                u = r.uniform(a_2**k + 5, a_2**(k-1) + 2)\n",
    "                if o > u:\n",
    "                    b = r.choice(list_3)\n",
    "                    n = np.where(m[j_prime] == o)\n",
    "                    o -= abs(u-o)\n",
    "                    b += abs(u-o)\n",
    "                    m[j_prime][n] = b\n",
    "                    \n",
    "\n",
    "\n",
    "                    '''if 0 == list_1[0]:\n",
    "                        list_3 = [x+1]\n",
    "                        b = r.choice(list_3)\n",
    "                        n = np.where(list_1 == x)\n",
    "                        x -= 1\n",
    "                        b += 1\n",
    "                        list_1[n] = b'''\n",
    "\n",
    "\n",
    "\n",
    "                    if o == m[j_prime][500]:\n",
    "                        list_3 = [x-1]\n",
    "                        b = r.choice(list_3)\n",
    "                        n = np.where(m[j_prime] == o)\n",
    "                        o -= abs(u-o)\n",
    "                        b += abs(u-o)\n",
    "                        m[j_prime][n] = b\n",
    "                               \n",
    "            list_6.append(u)   \n",
    "            list_8.append(o)\n",
    "        list_5.append(x)\n",
    "        \n",
    "        \n",
    "        w = np.linalg.eigvals(m)\n",
    "        h = list(w)\n",
    "        w_list.append(h)\n",
    "        w_list.sort()\n",
    "        \n",
    "        \n",
    "    return w_list, list_5, list_6, list_7, list_8"
   ]
  },
  {
   "cell_type": "code",
   "execution_count": 11,
   "id": "0c8b1e9a",
   "metadata": {},
   "outputs": [
    {
     "ename": "TypeError",
     "evalue": "can't multiply sequence by non-int of type 'numpy.float64'",
     "output_type": "error",
     "traceback": [
      "\u001b[1;31m---------------------------------------------------------------------------\u001b[0m",
      "\u001b[1;31mTypeError\u001b[0m                                 Traceback (most recent call last)",
      "Cell \u001b[1;32mIn[11], line 10\u001b[0m\n\u001b[0;32m      3\u001b[0m g \u001b[38;5;241m=\u001b[39m \u001b[38;5;241m0\u001b[39m\n\u001b[0;32m      6\u001b[0m \u001b[38;5;28;01mfor\u001b[39;00m t \u001b[38;5;129;01min\u001b[39;00m \u001b[38;5;28mrange\u001b[39m(\u001b[38;5;241m1\u001b[39m,\u001b[38;5;241m501\u001b[39m):\n\u001b[0;32m      7\u001b[0m         \n\u001b[0;32m      8\u001b[0m         \u001b[38;5;66;03m#mat = np.random.random((N,N))\u001b[39;00m\n\u001b[0;32m      9\u001b[0m         \u001b[38;5;66;03m#math = mat + mat.conj().T\u001b[39;00m\n\u001b[1;32m---> 10\u001b[0m         math \u001b[38;5;241m=\u001b[39m np\u001b[38;5;241m.\u001b[39marray([\u001b[38;5;241m1\u001b[39m\u001b[38;5;241m/\u001b[39mt\u001b[38;5;241m*\u001b[39m(np\u001b[38;5;241m.\u001b[39mexp(\u001b[38;5;241m-\u001b[39m\u001b[38;5;241m1\u001b[39m\u001b[38;5;241m*\u001b[39m(a)\u001b[38;5;241m*\u001b[39mnp\u001b[38;5;241m.\u001b[39mcos((\u001b[38;5;241m2\u001b[39m\u001b[38;5;241m*\u001b[39mnp\u001b[38;5;241m.\u001b[39mpi\u001b[38;5;241m*\u001b[39mm)\u001b[38;5;241m/\u001b[39mt)\u001b[38;5;241m+\u001b[39mK)) \u001b[38;5;241m*\u001b[39m \n\u001b[0;32m     11\u001b[0m                          [((t\u001b[38;5;241m*\u001b[39mnp\u001b[38;5;241m.\u001b[39mexp(\u001b[38;5;241m-\u001b[39m\u001b[38;5;241m1\u001b[39m\u001b[38;5;241m*\u001b[39m(r\u001b[38;5;241m*\u001b[39m\u001b[38;5;241m*\u001b[39m\u001b[38;5;241m2\u001b[39m)\u001b[38;5;241m/\u001b[39m\u001b[38;5;241m2\u001b[39m)\u001b[38;5;241m/\u001b[39m\u001b[38;5;241m10\u001b[39m) \u001b[38;5;241m-\u001b[39m g\u001b[38;5;241m*\u001b[39mr \u001b[38;5;241m+\u001b[39m (\u001b[38;5;241m2\u001b[39m\u001b[38;5;241m*\u001b[39mnp\u001b[38;5;241m.\u001b[39mpi\u001b[38;5;241m*\u001b[39mr\u001b[38;5;241m*\u001b[39m(m\u001b[38;5;241m-\u001b[39mn)\u001b[38;5;241m/\u001b[39mt)) \n\u001b[0;32m     12\u001b[0m                                                                  \u001b[38;5;28;01mfor\u001b[39;00m r \u001b[38;5;129;01min\u001b[39;00m \u001b[38;5;28mrange\u001b[39m(\u001b[38;5;241m-\u001b[39m\u001b[38;5;241m249\u001b[39m, \u001b[38;5;241m249\u001b[39m)] \n\u001b[0;32m     13\u001b[0m                          \u001b[38;5;28;01mfor\u001b[39;00m m \u001b[38;5;129;01min\u001b[39;00m \u001b[38;5;28mrange\u001b[39m(\u001b[38;5;241m-\u001b[39m\u001b[38;5;241m249\u001b[39m, \u001b[38;5;241m249\u001b[39m) \u001b[38;5;28;01mfor\u001b[39;00m n \u001b[38;5;129;01min\u001b[39;00m \u001b[38;5;28mrange\u001b[39m(\u001b[38;5;241m-\u001b[39m\u001b[38;5;241m249\u001b[39m,\u001b[38;5;241m249\u001b[39m)])\n\u001b[0;32m     17\u001b[0m eig_vals, raw_list, crit_points, mean, neigh \u001b[38;5;241m=\u001b[39m func(math)\n\u001b[0;32m     19\u001b[0m raw_list_2 \u001b[38;5;241m=\u001b[39m  \u001b[38;5;28mlist\u001b[39m(chain\u001b[38;5;241m.\u001b[39mfrom_iterable(raw_list))\n",
      "Cell \u001b[1;32mIn[11], line 10\u001b[0m, in \u001b[0;36m<listcomp>\u001b[1;34m(.0)\u001b[0m\n\u001b[0;32m      3\u001b[0m g \u001b[38;5;241m=\u001b[39m \u001b[38;5;241m0\u001b[39m\n\u001b[0;32m      6\u001b[0m \u001b[38;5;28;01mfor\u001b[39;00m t \u001b[38;5;129;01min\u001b[39;00m \u001b[38;5;28mrange\u001b[39m(\u001b[38;5;241m1\u001b[39m,\u001b[38;5;241m501\u001b[39m):\n\u001b[0;32m      7\u001b[0m         \n\u001b[0;32m      8\u001b[0m         \u001b[38;5;66;03m#mat = np.random.random((N,N))\u001b[39;00m\n\u001b[0;32m      9\u001b[0m         \u001b[38;5;66;03m#math = mat + mat.conj().T\u001b[39;00m\n\u001b[1;32m---> 10\u001b[0m         math \u001b[38;5;241m=\u001b[39m np\u001b[38;5;241m.\u001b[39marray([\u001b[38;5;241;43m1\u001b[39;49m\u001b[38;5;241;43m/\u001b[39;49m\u001b[43mt\u001b[49m\u001b[38;5;241;43m*\u001b[39;49m\u001b[43m(\u001b[49m\u001b[43mnp\u001b[49m\u001b[38;5;241;43m.\u001b[39;49m\u001b[43mexp\u001b[49m\u001b[43m(\u001b[49m\u001b[38;5;241;43m-\u001b[39;49m\u001b[38;5;241;43m1\u001b[39;49m\u001b[38;5;241;43m*\u001b[39;49m\u001b[43m(\u001b[49m\u001b[43ma\u001b[49m\u001b[43m)\u001b[49m\u001b[38;5;241;43m*\u001b[39;49m\u001b[43mnp\u001b[49m\u001b[38;5;241;43m.\u001b[39;49m\u001b[43mcos\u001b[49m\u001b[43m(\u001b[49m\u001b[43m(\u001b[49m\u001b[38;5;241;43m2\u001b[39;49m\u001b[38;5;241;43m*\u001b[39;49m\u001b[43mnp\u001b[49m\u001b[38;5;241;43m.\u001b[39;49m\u001b[43mpi\u001b[49m\u001b[38;5;241;43m*\u001b[39;49m\u001b[43mm\u001b[49m\u001b[43m)\u001b[49m\u001b[38;5;241;43m/\u001b[39;49m\u001b[43mt\u001b[49m\u001b[43m)\u001b[49m\u001b[38;5;241;43m+\u001b[39;49m\u001b[43mK\u001b[49m\u001b[43m)\u001b[49m\u001b[43m)\u001b[49m\u001b[43m \u001b[49m\u001b[38;5;241;43m*\u001b[39;49m\u001b[43m \u001b[49m\n\u001b[0;32m     11\u001b[0m \u001b[43m                         \u001b[49m\u001b[43m[\u001b[49m\u001b[43m(\u001b[49m\u001b[43m(\u001b[49m\u001b[43mt\u001b[49m\u001b[38;5;241;43m*\u001b[39;49m\u001b[43mnp\u001b[49m\u001b[38;5;241;43m.\u001b[39;49m\u001b[43mexp\u001b[49m\u001b[43m(\u001b[49m\u001b[38;5;241;43m-\u001b[39;49m\u001b[38;5;241;43m1\u001b[39;49m\u001b[38;5;241;43m*\u001b[39;49m\u001b[43m(\u001b[49m\u001b[43mr\u001b[49m\u001b[38;5;241;43m*\u001b[39;49m\u001b[38;5;241;43m*\u001b[39;49m\u001b[38;5;241;43m2\u001b[39;49m\u001b[43m)\u001b[49m\u001b[38;5;241;43m/\u001b[39;49m\u001b[38;5;241;43m2\u001b[39;49m\u001b[43m)\u001b[49m\u001b[38;5;241;43m/\u001b[39;49m\u001b[38;5;241;43m10\u001b[39;49m\u001b[43m)\u001b[49m\u001b[43m \u001b[49m\u001b[38;5;241;43m-\u001b[39;49m\u001b[43m \u001b[49m\u001b[43mg\u001b[49m\u001b[38;5;241;43m*\u001b[39;49m\u001b[43mr\u001b[49m\u001b[43m \u001b[49m\u001b[38;5;241;43m+\u001b[39;49m\u001b[43m \u001b[49m\u001b[43m(\u001b[49m\u001b[38;5;241;43m2\u001b[39;49m\u001b[38;5;241;43m*\u001b[39;49m\u001b[43mnp\u001b[49m\u001b[38;5;241;43m.\u001b[39;49m\u001b[43mpi\u001b[49m\u001b[38;5;241;43m*\u001b[39;49m\u001b[43mr\u001b[49m\u001b[38;5;241;43m*\u001b[39;49m\u001b[43m(\u001b[49m\u001b[43mm\u001b[49m\u001b[38;5;241;43m-\u001b[39;49m\u001b[43mn\u001b[49m\u001b[43m)\u001b[49m\u001b[38;5;241;43m/\u001b[39;49m\u001b[43mt\u001b[49m\u001b[43m)\u001b[49m\u001b[43m)\u001b[49m\u001b[43m \u001b[49m\n\u001b[0;32m     12\u001b[0m \u001b[43m                                                                 \u001b[49m\u001b[38;5;28;43;01mfor\u001b[39;49;00m\u001b[43m \u001b[49m\u001b[43mr\u001b[49m\u001b[43m \u001b[49m\u001b[38;5;129;43;01min\u001b[39;49;00m\u001b[43m \u001b[49m\u001b[38;5;28;43mrange\u001b[39;49m\u001b[43m(\u001b[49m\u001b[38;5;241;43m-\u001b[39;49m\u001b[38;5;241;43m249\u001b[39;49m\u001b[43m,\u001b[49m\u001b[43m \u001b[49m\u001b[38;5;241;43m249\u001b[39;49m\u001b[43m)\u001b[49m\u001b[43m]\u001b[49m \n\u001b[0;32m     13\u001b[0m                          \u001b[38;5;28;01mfor\u001b[39;00m m \u001b[38;5;129;01min\u001b[39;00m \u001b[38;5;28mrange\u001b[39m(\u001b[38;5;241m-\u001b[39m\u001b[38;5;241m249\u001b[39m, \u001b[38;5;241m249\u001b[39m) \u001b[38;5;28;01mfor\u001b[39;00m n \u001b[38;5;129;01min\u001b[39;00m \u001b[38;5;28mrange\u001b[39m(\u001b[38;5;241m-\u001b[39m\u001b[38;5;241m249\u001b[39m,\u001b[38;5;241m249\u001b[39m)])\n\u001b[0;32m     17\u001b[0m eig_vals, raw_list, crit_points, mean, neigh \u001b[38;5;241m=\u001b[39m func(math)\n\u001b[0;32m     19\u001b[0m raw_list_2 \u001b[38;5;241m=\u001b[39m  \u001b[38;5;28mlist\u001b[39m(chain\u001b[38;5;241m.\u001b[39mfrom_iterable(raw_list))\n",
      "\u001b[1;31mTypeError\u001b[0m: can't multiply sequence by non-int of type 'numpy.float64'"
     ]
    }
   ],
   "source": [
    "a = 0\n",
    "K = 0\n",
    "g = \n",
    "\n",
    "\n",
    "for t in range(1,501):\n",
    "        \n",
    "        #mat = np.random.random((N,N))\n",
    "        #math = mat + mat.conj().T\n",
    "        math = np.array([1/t*(np.exp(-1*(a)*np.cos((2*np.pi*m)/t)+K)) * \n",
    "                         [((t*np.exp(-1*(r**2)/2)/10) - g*r + (2*np.pi*r*(m-n)/t)) \n",
    "                                                                 for r in range(-249, 249)] \n",
    "                         for m in range(-249, 249) for n in range(-249,249)])\n",
    "\n",
    "\n",
    "\n",
    "eig_vals, raw_list, crit_points, mean, neigh = func(math)\n",
    "\n",
    "raw_list_2 =  list(chain.from_iterable(raw_list))\n",
    "eig_vals_2 = list(chain.from_iterable(eig_vals))\n",
    "\n",
    "norm_eig = [a/np.sqrt(500) for a in eig_vals_2]\n",
    "\n",
    "rld2 = [y - x for x,y in zip(raw_list_2, raw_list_2[1:])]\n",
    "evd2 = [abs(y - x) for x,y in zip(norm_eig, norm_eig[1:])]\n",
    "mean_evd2 = evd2/np.mean(evd2)"
   ]
  },
  {
   "cell_type": "code",
   "execution_count": 10,
   "id": "c9f0eda5",
   "metadata": {},
   "outputs": [
    {
     "ename": "NameError",
     "evalue": "name 'norm_eig' is not defined",
     "output_type": "error",
     "traceback": [
      "\u001b[1;31m---------------------------------------------------------------------------\u001b[0m",
      "\u001b[1;31mNameError\u001b[0m                                 Traceback (most recent call last)",
      "Cell \u001b[1;32mIn[10], line 1\u001b[0m\n\u001b[1;32m----> 1\u001b[0m \u001b[38;5;28mprint\u001b[39m(\u001b[38;5;28mlen\u001b[39m(\u001b[43mnorm_eig\u001b[49m))\n\u001b[0;32m      2\u001b[0m \u001b[38;5;28mprint\u001b[39m(\u001b[38;5;28mlen\u001b[39m(rld2))\n\u001b[0;32m      3\u001b[0m \u001b[38;5;28mprint\u001b[39m(\u001b[38;5;28mlen\u001b[39m(evd2))\n",
      "\u001b[1;31mNameError\u001b[0m: name 'norm_eig' is not defined"
     ]
    }
   ],
   "source": [
    "print(len(norm_eig))\n",
    "print(len(rld2))\n",
    "print(len(evd2))\n",
    "print(len(crit_points))\n",
    "print(len(mean_evd2))\n",
    "\n",
    "plt.scatter(np.log(rld2[:2999]), np.log(crit_points[:2999]))\n",
    "plt.xlabel('log of lattice points in time (with previous states subtracted)')\n",
    "plt.ylabel('log of critical points')\n",
    "plt.title('evidence for spontaneous synchronicity')"
   ]
  },
  {
   "cell_type": "code",
   "execution_count": null,
   "id": "e2fe93e7",
   "metadata": {},
   "outputs": [],
   "source": [
    "plt.hist(evd2, bins=2000)\n",
    "plt.plot(density=True)\n",
    "plt.xlim(0, 1)\n",
    "plt.xlabel('absolute difference-eigen values')\n",
    "plt.title('wigner distribution for a chaotic system; with the new cor. the eig vals came closer together"
   ]
  },
  {
   "cell_type": "code",
   "execution_count": null,
   "id": "9a1ca83d",
   "metadata": {},
   "outputs": [],
   "source": [
    "plt.hist(mean_evd2, bins=1575, density=True, label='normed eigenvalue spacings')\n",
    "plt.xlim(0,1.2)\n",
    "plt.xlabel('absolute difference-eigen values')\n",
    "plt.title('wigner distribution for a chaotic system; with the new cor. the eig vals came closer together')\n",
    "\n",
    "plt.plot(s, surmise, label='wigner\\'s surmise')\n",
    "\n",
    "plt.legend()"
   ]
  },
  {
   "cell_type": "code",
   "execution_count": null,
   "id": "2a4426d0",
   "metadata": {},
   "outputs": [],
   "source": [
    "plt.hist(norm_eig, bins=100)\n",
    "plt.xlim(-1.25, 1.25)\n",
    "plt.xlabel('eigen values')\n",
    "plt.title('semi-circular law')"
   ]
  }
 ],
 "metadata": {
  "kernelspec": {
   "display_name": "Python 3 (ipykernel)",
   "language": "python",
   "name": "python3"
  },
  "language_info": {
   "codemirror_mode": {
    "name": "ipython",
    "version": 3
   },
   "file_extension": ".py",
   "mimetype": "text/x-python",
   "name": "python",
   "nbconvert_exporter": "python",
   "pygments_lexer": "ipython3",
   "version": "3.10.9"
  }
 },
 "nbformat": 4,
 "nbformat_minor": 5
}
